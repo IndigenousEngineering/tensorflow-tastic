{
 "cells": [
  {
   "cell_type": "code",
   "execution_count": 1,
   "metadata": {},
   "outputs": [
    {
     "name": "stderr",
     "output_type": "stream",
     "text": [
      "/home/susanna/anaconda3/lib/python3.6/site-packages/h5py/__init__.py:36: FutureWarning: Conversion of the second argument of issubdtype from `float` to `np.floating` is deprecated. In future, it will be treated as `np.float64 == np.dtype(float).type`.\n",
      "  from ._conv import register_converters as _register_converters\n"
     ]
    }
   ],
   "source": [
    "import tensorflow as tf\n",
    "import numpy as np\n",
    "import pandas as pd\n",
    "import matplotlib as plt\n",
    "%matplotlib inline"
   ]
  },
  {
   "cell_type": "markdown",
   "metadata": {},
   "source": [
    "## step one: data\n",
    "\n",
    "### creating data 1.1: generating values with numpy"
   ]
  },
  {
   "cell_type": "code",
   "execution_count": 2,
   "metadata": {},
   "outputs": [],
   "source": [
    "# create a large dataset: one million points\n",
    "\n",
    "X_data = np.linspace(0.0,10.0,1000000)"
   ]
  },
  {
   "cell_type": "code",
   "execution_count": 3,
   "metadata": {},
   "outputs": [],
   "source": [
    "# create some noise\n",
    "# pass in the number of points needed: same as X_data\n",
    "\n",
    "noise = np.random.randn(len(X_data))"
   ]
  },
  {
   "cell_type": "code",
   "execution_count": 4,
   "metadata": {},
   "outputs": [
    {
     "name": "stdout",
     "output_type": "stream",
     "text": [
      "[0.000000e+00 1.000001e-05 2.000002e-05 ... 9.999980e+00 9.999990e+00\n",
      " 1.000000e+01] \n",
      " shape:  (1000000,)\n",
      "\n",
      "\n",
      "[ 0.37538724  0.24850549 -0.96602169 ... -0.11922718 -0.41802665\n",
      " -1.13637928] \n",
      " shape:  (1000000,)\n"
     ]
    }
   ],
   "source": [
    "# check to see: these are just a million data points each\n",
    "# linear distribution for X_data\n",
    "# random numbers from noise\n",
    "\n",
    "print(X_data, '\\n', 'shape: ', X_data.shape)\n",
    "print('\\n')\n",
    "print(noise, '\\n', 'shape: ', noise.shape)"
   ]
  },
  {
   "cell_type": "markdown",
   "metadata": {},
   "source": [
    "remember, we're modeling a line with the shape \n",
    "\n",
    "y = mx + b\n",
    "\n",
    "let's set \n",
    "\n",
    "b = 5\n",
    "\n",
    "and\n",
    "\n",
    "m = 0.5\n",
    "\n",
    "now generate this line (and add in the noise we created earlier):"
   ]
  },
  {
   "cell_type": "code",
   "execution_count": 5,
   "metadata": {},
   "outputs": [],
   "source": [
    "# b from y = mx + b\n",
    "\n",
    "intercept = 5\n",
    "\n",
    "# m from y = mx + b\n",
    "\n",
    "slope = 0.5\n",
    "\n",
    "# y = mx + b (and a little noise)\n",
    "\n",
    "y_actual = slope * X_data + intercept + noise"
   ]
  },
  {
   "cell_type": "markdown",
   "metadata": {},
   "source": [
    "### creating data 1.2: visualization using pandas dataframes"
   ]
  },
  {
   "cell_type": "markdown",
   "metadata": {},
   "source": [
    "creating dataframes using pandas:"
   ]
  },
  {
   "cell_type": "code",
   "execution_count": 6,
   "metadata": {},
   "outputs": [
    {
     "data": {
      "text/html": [
       "<div>\n",
       "<style scoped>\n",
       "    .dataframe tbody tr th:only-of-type {\n",
       "        vertical-align: middle;\n",
       "    }\n",
       "\n",
       "    .dataframe tbody tr th {\n",
       "        vertical-align: top;\n",
       "    }\n",
       "\n",
       "    .dataframe thead th {\n",
       "        text-align: right;\n",
       "    }\n",
       "</style>\n",
       "<table border=\"1\" class=\"dataframe\">\n",
       "  <thead>\n",
       "    <tr style=\"text-align: right;\">\n",
       "      <th></th>\n",
       "      <th>X</th>\n",
       "    </tr>\n",
       "  </thead>\n",
       "  <tbody>\n",
       "    <tr>\n",
       "      <th>0</th>\n",
       "      <td>0.00000</td>\n",
       "    </tr>\n",
       "    <tr>\n",
       "      <th>1</th>\n",
       "      <td>0.00001</td>\n",
       "    </tr>\n",
       "    <tr>\n",
       "      <th>2</th>\n",
       "      <td>0.00002</td>\n",
       "    </tr>\n",
       "    <tr>\n",
       "      <th>3</th>\n",
       "      <td>0.00003</td>\n",
       "    </tr>\n",
       "    <tr>\n",
       "      <th>4</th>\n",
       "      <td>0.00004</td>\n",
       "    </tr>\n",
       "  </tbody>\n",
       "</table>\n",
       "</div>"
      ],
      "text/plain": [
       "         X\n",
       "0  0.00000\n",
       "1  0.00001\n",
       "2  0.00002\n",
       "3  0.00003\n",
       "4  0.00004"
      ]
     },
     "execution_count": 6,
     "metadata": {},
     "output_type": "execute_result"
    }
   ],
   "source": [
    "# create a dataframe for X\n",
    "\n",
    "X_dataframe = pd.DataFrame(data=X_data, columns=['X'])\n",
    "\n",
    "X_dataframe.head()"
   ]
  },
  {
   "cell_type": "code",
   "execution_count": 7,
   "metadata": {},
   "outputs": [
    {
     "data": {
      "text/html": [
       "<div>\n",
       "<style scoped>\n",
       "    .dataframe tbody tr th:only-of-type {\n",
       "        vertical-align: middle;\n",
       "    }\n",
       "\n",
       "    .dataframe tbody tr th {\n",
       "        vertical-align: top;\n",
       "    }\n",
       "\n",
       "    .dataframe thead th {\n",
       "        text-align: right;\n",
       "    }\n",
       "</style>\n",
       "<table border=\"1\" class=\"dataframe\">\n",
       "  <thead>\n",
       "    <tr style=\"text-align: right;\">\n",
       "      <th></th>\n",
       "      <th>y</th>\n",
       "    </tr>\n",
       "  </thead>\n",
       "  <tbody>\n",
       "    <tr>\n",
       "      <th>0</th>\n",
       "      <td>5.375387</td>\n",
       "    </tr>\n",
       "    <tr>\n",
       "      <th>1</th>\n",
       "      <td>5.248510</td>\n",
       "    </tr>\n",
       "    <tr>\n",
       "      <th>2</th>\n",
       "      <td>4.033988</td>\n",
       "    </tr>\n",
       "    <tr>\n",
       "      <th>3</th>\n",
       "      <td>6.035138</td>\n",
       "    </tr>\n",
       "    <tr>\n",
       "      <th>4</th>\n",
       "      <td>5.794618</td>\n",
       "    </tr>\n",
       "  </tbody>\n",
       "</table>\n",
       "</div>"
      ],
      "text/plain": [
       "          y\n",
       "0  5.375387\n",
       "1  5.248510\n",
       "2  4.033988\n",
       "3  6.035138\n",
       "4  5.794618"
      ]
     },
     "execution_count": 7,
     "metadata": {},
     "output_type": "execute_result"
    }
   ],
   "source": [
    "# create a dataframe for y\n",
    "\n",
    "y_dataframe = pd.DataFrame(data=y_actual, columns=['y'])\n",
    "\n",
    "y_dataframe.head()"
   ]
  },
  {
   "cell_type": "markdown",
   "metadata": {},
   "source": [
    "merge (concatenate) the 2 dataframes together using pandas .concat() method:"
   ]
  },
  {
   "cell_type": "code",
   "execution_count": 8,
   "metadata": {},
   "outputs": [
    {
     "data": {
      "text/html": [
       "<div>\n",
       "<style scoped>\n",
       "    .dataframe tbody tr th:only-of-type {\n",
       "        vertical-align: middle;\n",
       "    }\n",
       "\n",
       "    .dataframe tbody tr th {\n",
       "        vertical-align: top;\n",
       "    }\n",
       "\n",
       "    .dataframe thead th {\n",
       "        text-align: right;\n",
       "    }\n",
       "</style>\n",
       "<table border=\"1\" class=\"dataframe\">\n",
       "  <thead>\n",
       "    <tr style=\"text-align: right;\">\n",
       "      <th></th>\n",
       "      <th>X</th>\n",
       "      <th>y</th>\n",
       "    </tr>\n",
       "  </thead>\n",
       "  <tbody>\n",
       "    <tr>\n",
       "      <th>0</th>\n",
       "      <td>0.00000</td>\n",
       "      <td>5.375387</td>\n",
       "    </tr>\n",
       "    <tr>\n",
       "      <th>1</th>\n",
       "      <td>0.00001</td>\n",
       "      <td>5.248510</td>\n",
       "    </tr>\n",
       "    <tr>\n",
       "      <th>2</th>\n",
       "      <td>0.00002</td>\n",
       "      <td>4.033988</td>\n",
       "    </tr>\n",
       "    <tr>\n",
       "      <th>3</th>\n",
       "      <td>0.00003</td>\n",
       "      <td>6.035138</td>\n",
       "    </tr>\n",
       "    <tr>\n",
       "      <th>4</th>\n",
       "      <td>0.00004</td>\n",
       "      <td>5.794618</td>\n",
       "    </tr>\n",
       "  </tbody>\n",
       "</table>\n",
       "</div>"
      ],
      "text/plain": [
       "         X         y\n",
       "0  0.00000  5.375387\n",
       "1  0.00001  5.248510\n",
       "2  0.00002  4.033988\n",
       "3  0.00003  6.035138\n",
       "4  0.00004  5.794618"
      ]
     },
     "execution_count": 8,
     "metadata": {},
     "output_type": "execute_result"
    }
   ],
   "source": [
    "# pass in dataframes to merge as a list\n",
    "# add an axis to merge along columns vs rows\n",
    "# axis=1 merges along columns\n",
    "\n",
    "df = pd.concat([X_dataframe, y_dataframe], axis=1)\n",
    "\n",
    "df.head()"
   ]
  },
  {
   "cell_type": "markdown",
   "metadata": {},
   "source": [
    "### visualizing the data\n",
    "\n",
    "with 1 million data points, it would be difficult (if not impossible) to plot here in jupyter notebook (without crashing the kernel). using pandas, we can take a sample of any size we specify and plot that:"
   ]
  },
  {
   "cell_type": "code",
   "execution_count": 9,
   "metadata": {},
   "outputs": [
    {
     "data": {
      "text/html": [
       "<div>\n",
       "<style scoped>\n",
       "    .dataframe tbody tr th:only-of-type {\n",
       "        vertical-align: middle;\n",
       "    }\n",
       "\n",
       "    .dataframe tbody tr th {\n",
       "        vertical-align: top;\n",
       "    }\n",
       "\n",
       "    .dataframe thead th {\n",
       "        text-align: right;\n",
       "    }\n",
       "</style>\n",
       "<table border=\"1\" class=\"dataframe\">\n",
       "  <thead>\n",
       "    <tr style=\"text-align: right;\">\n",
       "      <th></th>\n",
       "      <th>X</th>\n",
       "      <th>y</th>\n",
       "    </tr>\n",
       "  </thead>\n",
       "  <tbody>\n",
       "    <tr>\n",
       "      <th>153362</th>\n",
       "      <td>1.533622</td>\n",
       "      <td>6.238294</td>\n",
       "    </tr>\n",
       "    <tr>\n",
       "      <th>455825</th>\n",
       "      <td>4.558255</td>\n",
       "      <td>7.994337</td>\n",
       "    </tr>\n",
       "    <tr>\n",
       "      <th>910195</th>\n",
       "      <td>9.101959</td>\n",
       "      <td>8.783467</td>\n",
       "    </tr>\n",
       "    <tr>\n",
       "      <th>419189</th>\n",
       "      <td>4.191894</td>\n",
       "      <td>6.900420</td>\n",
       "    </tr>\n",
       "    <tr>\n",
       "      <th>838067</th>\n",
       "      <td>8.380678</td>\n",
       "      <td>7.892872</td>\n",
       "    </tr>\n",
       "  </tbody>\n",
       "</table>\n",
       "</div>"
      ],
      "text/plain": [
       "               X         y\n",
       "153362  1.533622  6.238294\n",
       "455825  4.558255  7.994337\n",
       "910195  9.101959  8.783467\n",
       "419189  4.191894  6.900420\n",
       "838067  8.380678  7.892872"
      ]
     },
     "execution_count": 9,
     "metadata": {},
     "output_type": "execute_result"
    }
   ],
   "source": [
    "# grab a sample\n",
    "# this one has 250 points\n",
    "\n",
    "df_sample = df.sample(n=250)\n",
    "\n",
    "df_sample.head()"
   ]
  },
  {
   "cell_type": "code",
   "execution_count": 10,
   "metadata": {},
   "outputs": [
    {
     "data": {
      "text/plain": [
       "<matplotlib.axes._subplots.AxesSubplot at 0x7f921ee75f60>"
      ]
     },
     "execution_count": 10,
     "metadata": {},
     "output_type": "execute_result"
    },
    {
     "data": {
      "image/png": "[encoded data removed]",
      "text/plain": [
       "<Figure size 432x288 with 1 Axes>"
      ]
     },
     "metadata": {},
     "output_type": "display_data"
    }
   ],
   "source": [
    "# now plot from the sample\n",
    "# note: scatterplots require args for x and y\n",
    "\n",
    "df_sample.plot(kind='scatter', x='X', y='y')"
   ]
  },
  {
   "cell_type": "code",
   "execution_count": 11,
   "metadata": {},
   "outputs": [
    {
     "data": {
      "text/plain": [
       "<matplotlib.axes._subplots.AxesSubplot at 0x7f921edaba58>"
      ]
     },
     "execution_count": 11,
     "metadata": {},
     "output_type": "execute_result"
    },
    {
     "data": {
      "image/png": "[encoded data removed]",
      "text/plain": [
       "<Figure size 432x288 with 1 Axes>"
      ]
     },
     "metadata": {},
     "output_type": "display_data"
    }
   ],
   "source": [
    "# this can all be done in 1 line, too\n",
    "# here's a sample plot with 500 points\n",
    "\n",
    "df.sample(n=500).plot(kind='scatter', x='X', y='y')"
   ]
  },
  {
   "cell_type": "markdown",
   "metadata": {},
   "source": [
    "the plot with 500 sample points is a little more dense than the plot with 250.\n",
    "\n",
    "we can also see there is definitely a linear fit (albeit with a little noise), a positive (upward) slope, and that the intercept is around 5, as we set before adding in the noise."
   ]
  },
  {
   "cell_type": "markdown",
   "metadata": {},
   "source": [
    "## step two: creating a model\n",
    "\n",
    "#### overview of the process:\n",
    "#### 1) create variables\n",
    "#### 2) create placeholders\n",
    "#### 3) build the graph"
   ]
  },
  {
   "cell_type": "markdown",
   "metadata": {},
   "source": [
    "\n",
    "### a note on batch size\n",
    "\n",
    "a million data points is too many to pass in all at once! complex models work best when they have a lot of data. the solution: feeding data in in batches.\n",
    "\n",
    "what size should batches be? that depends on the data. smaller datasets don't really need batches; training a model on a large dataset with tiny batches could take a while. for this model, i'll be using a batch size of 50."
   ]
  },
  {
   "cell_type": "code",
   "execution_count": 23,
   "metadata": {},
   "outputs": [],
   "source": [
    "training_batch_size = 8"
   ]
  },
  {
   "cell_type": "markdown",
   "metadata": {},
   "source": [
    "### setting up variables\n",
    "\n",
    "remember: y = mx + b\n",
    "\n",
    "setting up variables for the slope (m) & intercept (b) in our model:"
   ]
  },
  {
   "cell_type": "code",
   "execution_count": 24,
   "metadata": {},
   "outputs": [],
   "source": [
    "# initialize with random numbers\n",
    "\n",
    "m = tf.Variable(np.random.rand())\n",
    "\n",
    "#m = tf.Variable(0.32)\n",
    "\n",
    "b = tf.Variable(np.random.rand())\n",
    "\n",
    "#b = tf.Variable(1.26)"
   ]
  },
  {
   "cell_type": "markdown",
   "metadata": {},
   "source": [
    "### placeholders for data feeds\n",
    "\n",
    "creating placeholders for the data to feed into the model. note: we need placeholders for both X and y, and the size will be the same as a training_batch_size:"
   ]
  },
  {
   "cell_type": "code",
   "execution_count": 25,
   "metadata": {},
   "outputs": [],
   "source": [
    "# placeholder size is the same as the training batch\n",
    "\n",
    "X_datafeed = tf.placeholder(tf.float32,[training_batch_size])\n",
    "\n",
    "y_datafeed = tf.placeholder(tf.float32,[training_batch_size])"
   ]
  },
  {
   "cell_type": "markdown",
   "metadata": {},
   "source": [
    "### building the graph (model)"
   ]
  },
  {
   "cell_type": "code",
   "execution_count": 26,
   "metadata": {},
   "outputs": [],
   "source": [
    "# y = mx + b yet again\n",
    "# this time we're directly feeding the data into the model\n",
    "\n",
    "model = m * X_datafeed + b\n",
    "\n",
    "# that's it!"
   ]
  },
  {
   "cell_type": "markdown",
   "metadata": {},
   "source": [
    "### cost/loss function"
   ]
  },
  {
   "cell_type": "code",
   "execution_count": 27,
   "metadata": {},
   "outputs": [],
   "source": [
    "# error squared\n",
    "# squares the difference between the true data and the model\n",
    "# use tensorflow functionality to make this neatly on one line\n",
    "\n",
    "error_sqd = tf.reduce_sum(tf.square(y_datafeed - model))"
   ]
  },
  {
   "cell_type": "markdown",
   "metadata": {},
   "source": [
    "### optimizer"
   ]
  },
  {
   "cell_type": "code",
   "execution_count": 28,
   "metadata": {},
   "outputs": [],
   "source": [
    "# initialize the optimizer object\n",
    "# we'll use gradient descent for this one\n",
    "\n",
    "GD_optimizer = tf.train.GradientDescentOptimizer(learning_rate=0.001)\n",
    "\n",
    "# set it to minimize the error we defined earlier\n",
    "\n",
    "training = GD_optimizer.minimize(error_sqd)"
   ]
  },
  {
   "cell_type": "markdown",
   "metadata": {},
   "source": [
    "### initialize variables and run the training"
   ]
  },
  {
   "cell_type": "markdown",
   "metadata": {},
   "source": [
    "set up an object to initialize variables:"
   ]
  },
  {
   "cell_type": "code",
   "execution_count": 29,
   "metadata": {},
   "outputs": [],
   "source": [
    "initializer = tf.global_variables_initializer()"
   ]
  },
  {
   "cell_type": "markdown",
   "metadata": {},
   "source": [
    "#### another note on batches:\n",
    "\n",
    "this dataset has a strong linear trend that we can see, so it's unlikely that we'd need all 1 million samples for our model to find it. in fact, we could end up overfitting with that many samples on such a simple model. this where the number of batches selested to train on becomes important: both batch size and number of batches are two areas where there's room for experimentation. in this case, i'm pretty sure that my model can find a trend in < 1 million samples, so i'm setting the number of training batches to 500, which will give me 25,000 batches overall. \n",
    "\n",
    "this is likely too many for this model. but it should work for demonstration puposes (recall that all this data is effectively made-up), and larger batch sizes are fairly common with large datasets feeding into complex models."
   ]
  },
  {
   "cell_type": "code",
   "execution_count": 30,
   "metadata": {},
   "outputs": [],
   "source": [
    "with tf.Session() as sess:\n",
    "    \n",
    "    sess.run(initializer)\n",
    "    \n",
    "    # the number of 50-sample batch sizes we'll run through\n",
    "    \n",
    "    num_batches = 1000\n",
    "    \n",
    "    for i in range(num_batches):\n",
    "        \n",
    "        random_index = np.random.randint(len(X_data), size=training_batch_size)\n",
    "        \n",
    "        # create a feed dictionary\n",
    "        \n",
    "        my_feed_dict = {X_datafeed: X_data[random_index], y_datafeed: y_actual[random_index]}\n",
    "        \n",
    "        sess.run(training, feed_dict=my_feed_dict)\n",
    "    \n",
    "    # assign the results to python variables so we can see them\n",
    "    \n",
    "    m_model, b_model = sess.run([m,b])\n",
    "          "
   ]
  },
  {
   "cell_type": "code",
   "execution_count": 31,
   "metadata": {},
   "outputs": [
    {
     "data": {
      "text/plain": [
       "0.53075606"
      ]
     },
     "execution_count": 31,
     "metadata": {},
     "output_type": "execute_result"
    }
   ],
   "source": [
    "m_model"
   ]
  },
  {
   "cell_type": "code",
   "execution_count": 32,
   "metadata": {},
   "outputs": [
    {
     "data": {
      "text/plain": [
       "4.934928"
      ]
     },
     "execution_count": 32,
     "metadata": {},
     "output_type": "execute_result"
    }
   ],
   "source": [
    "b_model"
   ]
  },
  {
   "cell_type": "code",
   "execution_count": null,
   "metadata": {},
   "outputs": [],
   "source": []
  }
 ],
 "metadata": {
  "kernelspec": {
   "display_name": "Python 3",
   "language": "python",
   "name": "python3"
  },
  "language_info": {
   "codemirror_mode": {
    "name": "ipython",
    "version": 3
   },
   "file_extension": ".py",
   "mimetype": "text/x-python",
   "name": "python",
   "nbconvert_exporter": "python",
   "pygments_lexer": "ipython3",
   "version": "3.6.5"
  }
 },
 "nbformat": 4,
 "nbformat_minor": 2
}
