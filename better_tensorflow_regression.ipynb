{
 "cells": [
  {
   "cell_type": "code",
   "execution_count": 2,
   "metadata": {},
   "outputs": [],
   "source": [
    "import tensorflow as tf\n",
    "import numpy as np\n",
    "import pandas as pd\n",
    "import matplotlib as plt\n",
    "%matplotlib inline"
   ]
  },
  {
   "cell_type": "code",
   "execution_count": 13,
   "metadata": {},
   "outputs": [
    {
     "name": "stdout",
     "output_type": "stream",
     "text": [
      "[0.000000e+00 1.000001e-05 2.000002e-05 ... 9.999980e+00 9.999990e+00\n",
      " 1.000000e+01] \n",
      " shape:  (1000000,)\n",
      "\n",
      "\n",
      "[0.1050464  0.8836699  0.01693174 ... 0.6580234  0.71009733 0.39138382] \n",
      " shape:  (1000000,)\n"
     ]
    }
   ],
   "source": [
    "# create a large dataset: one million points\n",
    "\n",
    "x_lin = np.linspace(0,10,1000000)\n",
    "\n",
    "# create some noise\n",
    "# pass in the number of points needed: same as x_lin\n",
    "\n",
    "noise = np.random.rand(len(x_lin))\n",
    "\n",
    "# check to see: these are just a million data points each\n",
    "# linear distribution for x_lin\n",
    "# random numbers from noise\n",
    "\n",
    "print(x_lin, '\\n', 'shape: ', x_lin.shape)\n",
    "print('\\n')\n",
    "print(noise, '\\n', 'shape: ', noise.shape)"
   ]
  },
  {
   "cell_type": "code",
   "execution_count": null,
   "metadata": {},
   "outputs": [],
   "source": []
  }
 ],
 "metadata": {
  "kernelspec": {
   "display_name": "Python 3",
   "language": "python",
   "name": "python3"
  },
  "language_info": {
   "codemirror_mode": {
    "name": "ipython",
    "version": 3
   },
   "file_extension": ".py",
   "mimetype": "text/x-python",
   "name": "python",
   "nbconvert_exporter": "python",
   "pygments_lexer": "ipython3",
   "version": "3.6.5"
  }
 },
 "nbformat": 4,
 "nbformat_minor": 2
}
