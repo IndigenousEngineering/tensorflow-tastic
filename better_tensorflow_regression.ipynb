{
 "cells": [
  {
   "cell_type": "code",
   "execution_count": 5,
   "metadata": {},
   "outputs": [],
   "source": [
    "import tensorflow as tf\n",
    "import numpy as np\n",
    "import pandas as pd\n",
    "import matplotlib.pyplot as plt\n",
    "%matplotlib inline"
   ]
  },
  {
   "cell_type": "markdown",
   "metadata": {},
   "source": [
    "## step one: data\n",
    "\n",
    "### creating data 1.1: generating values with numpy"
   ]
  },
  {
   "cell_type": "code",
   "execution_count": 6,
   "metadata": {},
   "outputs": [],
   "source": [
    "# create a large dataset: one million points\n",
    "\n",
    "X_data = np.linspace(0.0,10.0,1000000)"
   ]
  },
  {
   "cell_type": "code",
   "execution_count": 7,
   "metadata": {},
   "outputs": [],
   "source": [
    "# create some noise\n",
    "# pass in the number of points needed: same as X_data\n",
    "\n",
    "noise = np.random.randn(len(X_data))"
   ]
  },
  {
   "cell_type": "code",
   "execution_count": 8,
   "metadata": {},
   "outputs": [
    {
     "name": "stdout",
     "output_type": "stream",
     "text": [
      "[0.000000e+00 1.000001e-05 2.000002e-05 ... 9.999980e+00 9.999990e+00\n",
      " 1.000000e+01] \n",
      " shape:  (1000000,)\n",
      "\n",
      "\n",
      "[-0.43529361  0.02028113 -0.97781584 ... -1.09008135  0.1453812\n",
      "  1.03611384] \n",
      " shape:  (1000000,)\n"
     ]
    }
   ],
   "source": [
    "# check to see: these are just a million data points each\n",
    "# linear distribution for X_data\n",
    "# random numbers from noise\n",
    "\n",
    "print(X_data, '\\n', 'shape: ', X_data.shape)\n",
    "print('\\n')\n",
    "print(noise, '\\n', 'shape: ', noise.shape)"
   ]
  },
  {
   "cell_type": "markdown",
   "metadata": {},
   "source": [
    "remember, we're modeling a line with the shape \n",
    "\n",
    "y = mx + b\n",
    "\n",
    "let's set \n",
    "\n",
    "b = 5\n",
    "\n",
    "and\n",
    "\n",
    "m = 0.5\n",
    "\n",
    "now generate this line (and add in the noise we created earlier):"
   ]
  },
  {
   "cell_type": "code",
   "execution_count": 9,
   "metadata": {},
   "outputs": [],
   "source": [
    "# b from y = mx + b\n",
    "\n",
    "intercept = 5\n",
    "\n",
    "# m from y = mx + b\n",
    "\n",
    "slope = 0.5\n",
    "\n",
    "# y = mx + b (and a little noise)\n",
    "\n",
    "y_actual = slope * X_data + intercept + noise"
   ]
  },
  {
   "cell_type": "markdown",
   "metadata": {},
   "source": [
    "### creating data 1.2: visualization using pandas dataframes"
   ]
  },
  {
   "cell_type": "markdown",
   "metadata": {},
   "source": [
    "creating dataframes using pandas:"
   ]
  },
  {
   "cell_type": "code",
   "execution_count": 10,
   "metadata": {},
   "outputs": [
    {
     "data": {
      "text/html": [
       "<div>\n",
       "<style scoped>\n",
       "    .dataframe tbody tr th:only-of-type {\n",
       "        vertical-align: middle;\n",
       "    }\n",
       "\n",
       "    .dataframe tbody tr th {\n",
       "        vertical-align: top;\n",
       "    }\n",
       "\n",
       "    .dataframe thead th {\n",
       "        text-align: right;\n",
       "    }\n",
       "</style>\n",
       "<table border=\"1\" class=\"dataframe\">\n",
       "  <thead>\n",
       "    <tr style=\"text-align: right;\">\n",
       "      <th></th>\n",
       "      <th>X</th>\n",
       "    </tr>\n",
       "  </thead>\n",
       "  <tbody>\n",
       "    <tr>\n",
       "      <th>0</th>\n",
       "      <td>0.00000</td>\n",
       "    </tr>\n",
       "    <tr>\n",
       "      <th>1</th>\n",
       "      <td>0.00001</td>\n",
       "    </tr>\n",
       "    <tr>\n",
       "      <th>2</th>\n",
       "      <td>0.00002</td>\n",
       "    </tr>\n",
       "    <tr>\n",
       "      <th>3</th>\n",
       "      <td>0.00003</td>\n",
       "    </tr>\n",
       "    <tr>\n",
       "      <th>4</th>\n",
       "      <td>0.00004</td>\n",
       "    </tr>\n",
       "  </tbody>\n",
       "</table>\n",
       "</div>"
      ],
      "text/plain": [
       "         X\n",
       "0  0.00000\n",
       "1  0.00001\n",
       "2  0.00002\n",
       "3  0.00003\n",
       "4  0.00004"
      ]
     },
     "execution_count": 10,
     "metadata": {},
     "output_type": "execute_result"
    }
   ],
   "source": [
    "# create a dataframe for X\n",
    "\n",
    "X_dataframe = pd.DataFrame(data=X_data, columns=['X'])\n",
    "\n",
    "X_dataframe.head()"
   ]
  },
  {
   "cell_type": "code",
   "execution_count": 11,
   "metadata": {},
   "outputs": [
    {
     "data": {
      "text/html": [
       "<div>\n",
       "<style scoped>\n",
       "    .dataframe tbody tr th:only-of-type {\n",
       "        vertical-align: middle;\n",
       "    }\n",
       "\n",
       "    .dataframe tbody tr th {\n",
       "        vertical-align: top;\n",
       "    }\n",
       "\n",
       "    .dataframe thead th {\n",
       "        text-align: right;\n",
       "    }\n",
       "</style>\n",
       "<table border=\"1\" class=\"dataframe\">\n",
       "  <thead>\n",
       "    <tr style=\"text-align: right;\">\n",
       "      <th></th>\n",
       "      <th>y</th>\n",
       "    </tr>\n",
       "  </thead>\n",
       "  <tbody>\n",
       "    <tr>\n",
       "      <th>0</th>\n",
       "      <td>4.564706</td>\n",
       "    </tr>\n",
       "    <tr>\n",
       "      <th>1</th>\n",
       "      <td>5.020286</td>\n",
       "    </tr>\n",
       "    <tr>\n",
       "      <th>2</th>\n",
       "      <td>4.022194</td>\n",
       "    </tr>\n",
       "    <tr>\n",
       "      <th>3</th>\n",
       "      <td>5.243164</td>\n",
       "    </tr>\n",
       "    <tr>\n",
       "      <th>4</th>\n",
       "      <td>4.383886</td>\n",
       "    </tr>\n",
       "  </tbody>\n",
       "</table>\n",
       "</div>"
      ],
      "text/plain": [
       "          y\n",
       "0  4.564706\n",
       "1  5.020286\n",
       "2  4.022194\n",
       "3  5.243164\n",
       "4  4.383886"
      ]
     },
     "execution_count": 11,
     "metadata": {},
     "output_type": "execute_result"
    }
   ],
   "source": [
    "# create a dataframe for y\n",
    "\n",
    "y_dataframe = pd.DataFrame(data=y_actual, columns=['y'])\n",
    "\n",
    "y_dataframe.head()"
   ]
  },
  {
   "cell_type": "markdown",
   "metadata": {},
   "source": [
    "merge (concatenate) the 2 dataframes together using pandas .concat() method:"
   ]
  },
  {
   "cell_type": "code",
   "execution_count": 12,
   "metadata": {},
   "outputs": [
    {
     "data": {
      "text/html": [
       "<div>\n",
       "<style scoped>\n",
       "    .dataframe tbody tr th:only-of-type {\n",
       "        vertical-align: middle;\n",
       "    }\n",
       "\n",
       "    .dataframe tbody tr th {\n",
       "        vertical-align: top;\n",
       "    }\n",
       "\n",
       "    .dataframe thead th {\n",
       "        text-align: right;\n",
       "    }\n",
       "</style>\n",
       "<table border=\"1\" class=\"dataframe\">\n",
       "  <thead>\n",
       "    <tr style=\"text-align: right;\">\n",
       "      <th></th>\n",
       "      <th>X</th>\n",
       "      <th>y</th>\n",
       "    </tr>\n",
       "  </thead>\n",
       "  <tbody>\n",
       "    <tr>\n",
       "      <th>0</th>\n",
       "      <td>0.00000</td>\n",
       "      <td>4.564706</td>\n",
       "    </tr>\n",
       "    <tr>\n",
       "      <th>1</th>\n",
       "      <td>0.00001</td>\n",
       "      <td>5.020286</td>\n",
       "    </tr>\n",
       "    <tr>\n",
       "      <th>2</th>\n",
       "      <td>0.00002</td>\n",
       "      <td>4.022194</td>\n",
       "    </tr>\n",
       "    <tr>\n",
       "      <th>3</th>\n",
       "      <td>0.00003</td>\n",
       "      <td>5.243164</td>\n",
       "    </tr>\n",
       "    <tr>\n",
       "      <th>4</th>\n",
       "      <td>0.00004</td>\n",
       "      <td>4.383886</td>\n",
       "    </tr>\n",
       "  </tbody>\n",
       "</table>\n",
       "</div>"
      ],
      "text/plain": [
       "         X         y\n",
       "0  0.00000  4.564706\n",
       "1  0.00001  5.020286\n",
       "2  0.00002  4.022194\n",
       "3  0.00003  5.243164\n",
       "4  0.00004  4.383886"
      ]
     },
     "execution_count": 12,
     "metadata": {},
     "output_type": "execute_result"
    }
   ],
   "source": [
    "# pass in dataframes to merge as a list\n",
    "# add an axis to merge along columns vs rows\n",
    "# axis=1 merges along columns\n",
    "\n",
    "df = pd.concat([X_dataframe, y_dataframe], axis=1)\n",
    "\n",
    "df.head()"
   ]
  },
  {
   "cell_type": "markdown",
   "metadata": {},
   "source": [
    "### visualizing the data\n",
    "\n",
    "with 1 million data points, it would be difficult (if not impossible) to plot here in jupyter notebook (without crashing the kernel). using pandas, we can take a sample of any size we specify and plot that:"
   ]
  },
  {
   "cell_type": "code",
   "execution_count": 13,
   "metadata": {},
   "outputs": [
    {
     "data": {
      "text/html": [
       "<div>\n",
       "<style scoped>\n",
       "    .dataframe tbody tr th:only-of-type {\n",
       "        vertical-align: middle;\n",
       "    }\n",
       "\n",
       "    .dataframe tbody tr th {\n",
       "        vertical-align: top;\n",
       "    }\n",
       "\n",
       "    .dataframe thead th {\n",
       "        text-align: right;\n",
       "    }\n",
       "</style>\n",
       "<table border=\"1\" class=\"dataframe\">\n",
       "  <thead>\n",
       "    <tr style=\"text-align: right;\">\n",
       "      <th></th>\n",
       "      <th>X</th>\n",
       "      <th>y</th>\n",
       "    </tr>\n",
       "  </thead>\n",
       "  <tbody>\n",
       "    <tr>\n",
       "      <th>613124</th>\n",
       "      <td>6.131246</td>\n",
       "      <td>7.822025</td>\n",
       "    </tr>\n",
       "    <tr>\n",
       "      <th>53499</th>\n",
       "      <td>0.534991</td>\n",
       "      <td>5.496544</td>\n",
       "    </tr>\n",
       "    <tr>\n",
       "      <th>908000</th>\n",
       "      <td>9.080009</td>\n",
       "      <td>8.573005</td>\n",
       "    </tr>\n",
       "    <tr>\n",
       "      <th>447693</th>\n",
       "      <td>4.476934</td>\n",
       "      <td>7.793680</td>\n",
       "    </tr>\n",
       "    <tr>\n",
       "      <th>934367</th>\n",
       "      <td>9.343679</td>\n",
       "      <td>8.810188</td>\n",
       "    </tr>\n",
       "  </tbody>\n",
       "</table>\n",
       "</div>"
      ],
      "text/plain": [
       "               X         y\n",
       "613124  6.131246  7.822025\n",
       "53499   0.534991  5.496544\n",
       "908000  9.080009  8.573005\n",
       "447693  4.476934  7.793680\n",
       "934367  9.343679  8.810188"
      ]
     },
     "execution_count": 13,
     "metadata": {},
     "output_type": "execute_result"
    }
   ],
   "source": [
    "# grab a sample\n",
    "# this one has 250 points\n",
    "\n",
    "df_sample = df.sample(n=250)\n",
    "\n",
    "df_sample.head()"
   ]
  },
  {
   "cell_type": "code",
   "execution_count": 14,
   "metadata": {},
   "outputs": [
    {
     "data": {
      "text/plain": [
       "<matplotlib.axes._subplots.AxesSubplot at 0x7fd4e86b43c8>"
      ]
     },
     "execution_count": 14,
     "metadata": {},
     "output_type": "execute_result"
    },
    {
     "data": {
      "image/png": "[encoded data removed]",
      "text/plain": [
       "<Figure size 432x288 with 1 Axes>"
      ]
     },
     "metadata": {},
     "output_type": "display_data"
    }
   ],
   "source": [
    "# now plot from the sample\n",
    "# note: scatterplots require args for x and y\n",
    "\n",
    "df_sample.plot(kind='scatter', x='X', y='y')"
   ]
  },
  {
   "cell_type": "code",
   "execution_count": 15,
   "metadata": {},
   "outputs": [
    {
     "data": {
      "text/plain": [
       "<matplotlib.axes._subplots.AxesSubplot at 0x7fd4e865bda0>"
      ]
     },
     "execution_count": 15,
     "metadata": {},
     "output_type": "execute_result"
    },
    {
     "data": {
      "image/png": "[encoded data removed]",
      "text/plain": [
       "<Figure size 432x288 with 1 Axes>"
      ]
     },
     "metadata": {},
     "output_type": "display_data"
    }
   ],
   "source": [
    "# this can all be done in 1 line, too\n",
    "# here's a sample plot with 500 points\n",
    "\n",
    "df.sample(n=500).plot(kind='scatter', x='X', y='y')"
   ]
  },
  {
   "cell_type": "markdown",
   "metadata": {},
   "source": [
    "the plot with 500 sample points is a little more dense than the plot with 250.\n",
    "\n",
    "we can also see there is definitely a linear fit (albeit with a little noise), a positive (upward) slope, and that the intercept is around 5, as we set before adding in the noise."
   ]
  },
  {
   "cell_type": "markdown",
   "metadata": {},
   "source": [
    "## step two: creating a model\n",
    "\n",
    "#### overview of the process:\n",
    "#### 1) create variables\n",
    "#### 2) create placeholders\n",
    "#### 3) build the graph"
   ]
  },
  {
   "cell_type": "markdown",
   "metadata": {},
   "source": [
    "\n",
    "### a note on batch size\n",
    "\n",
    "a million data points is too many to pass in all at once! complex models work best when they have a lot of data. the solution: feeding data in in batches.\n",
    "\n",
    "what size should batches be? that depends on the data. smaller datasets don't really need batches; training a model on a large dataset with tiny batches could take a while. for this model, i'll be using a batch size of 10."
   ]
  },
  {
   "cell_type": "code",
   "execution_count": 16,
   "metadata": {},
   "outputs": [],
   "source": [
    "training_batch_size = 10"
   ]
  },
  {
   "cell_type": "markdown",
   "metadata": {},
   "source": [
    "### setting up variables\n",
    "\n",
    "remember: y = mx + b\n",
    "\n",
    "setting up variables for the slope (m) & intercept (b) in our model:"
   ]
  },
  {
   "cell_type": "code",
   "execution_count": 17,
   "metadata": {},
   "outputs": [],
   "source": [
    "# initialize with random numbers\n",
    "\n",
    "m = tf.Variable(np.random.rand())\n",
    "\n",
    "#m = tf.Variable(0.32)\n",
    "\n",
    "b = tf.Variable(np.random.rand())\n",
    "\n",
    "#b = tf.Variable(1.26)"
   ]
  },
  {
   "cell_type": "markdown",
   "metadata": {},
   "source": [
    "### placeholders for data feeds\n",
    "\n",
    "creating placeholders for the data to feed into the model. note: we need placeholders for both X and y, and the size will be the same as a training_batch_size:"
   ]
  },
  {
   "cell_type": "code",
   "execution_count": 18,
   "metadata": {},
   "outputs": [],
   "source": [
    "# placeholder size is the same as the training batch\n",
    "\n",
    "X_datafeed = tf.placeholder(tf.float32,[training_batch_size])\n",
    "\n",
    "y_datafeed = tf.placeholder(tf.float32,[training_batch_size])"
   ]
  },
  {
   "cell_type": "markdown",
   "metadata": {},
   "source": [
    "### building the graph (model)"
   ]
  },
  {
   "cell_type": "code",
   "execution_count": 19,
   "metadata": {},
   "outputs": [],
   "source": [
    "# y = mx + b yet again\n",
    "# this time we're directly feeding the data into the model\n",
    "\n",
    "model = m * X_datafeed + b\n",
    "\n",
    "# that's it!"
   ]
  },
  {
   "cell_type": "markdown",
   "metadata": {},
   "source": [
    "### cost/loss function"
   ]
  },
  {
   "cell_type": "code",
   "execution_count": 20,
   "metadata": {},
   "outputs": [],
   "source": [
    "# error squared\n",
    "# squares the difference between the true data and the model\n",
    "# use tensorflow functionality to make this neatly on one line\n",
    "\n",
    "error_sqd = tf.reduce_sum(tf.square(y_datafeed - model))"
   ]
  },
  {
   "cell_type": "markdown",
   "metadata": {},
   "source": [
    "### optimizer"
   ]
  },
  {
   "cell_type": "code",
   "execution_count": 21,
   "metadata": {},
   "outputs": [],
   "source": [
    "# initialize the optimizer object\n",
    "# we'll use gradient descent for this one\n",
    "\n",
    "GD_optimizer = tf.train.GradientDescentOptimizer(learning_rate=0.001)\n",
    "\n",
    "# set it to minimize the error we defined earlier\n",
    "\n",
    "training = GD_optimizer.minimize(error_sqd)"
   ]
  },
  {
   "cell_type": "markdown",
   "metadata": {},
   "source": [
    "### initialize variables and run the training"
   ]
  },
  {
   "cell_type": "markdown",
   "metadata": {},
   "source": [
    "set up an object to initialize variables:"
   ]
  },
  {
   "cell_type": "code",
   "execution_count": 22,
   "metadata": {},
   "outputs": [],
   "source": [
    "initializer = tf.global_variables_initializer()"
   ]
  },
  {
   "cell_type": "markdown",
   "metadata": {},
   "source": [
    "#### another note on batches:\n",
    "\n",
    "this dataset has a strong linear trend that we can see, so it's unlikely that we'd need all 1 million samples for our model to find it. in fact, we could end up overfitting with that many samples on such a simple model. this where the number of batches selested to train on becomes important: both batch size and number of batches are two areas where there's room for experimentation. in this case, i'm pretty sure that my model can find a trend in < 1 million samples, so i'm setting the number of training batches to 500, which will give me 25,000 batches overall. \n",
    "\n",
    "this is likely too many for this model. but it should work for demonstration puposes (recall that all this data is effectively made-up), and larger batch sizes are fairly common with large datasets feeding into complex models."
   ]
  },
  {
   "cell_type": "code",
   "execution_count": 23,
   "metadata": {},
   "outputs": [],
   "source": [
    "with tf.Session() as sess:\n",
    "    \n",
    "    sess.run(initializer)\n",
    "    \n",
    "    # the number of 10-sample batch sizes we'll run through\n",
    "    \n",
    "    num_batches = 1000\n",
    "    \n",
    "    for i in range(num_batches):\n",
    "        \n",
    "        random_index = np.random.randint(len(X_data), size=training_batch_size)\n",
    "        \n",
    "        # create a feed dictionary\n",
    "        \n",
    "        my_feed_dict = {X_datafeed: X_data[random_index], y_datafeed: y_actual[random_index]}\n",
    "        \n",
    "        sess.run(training, feed_dict=my_feed_dict)\n",
    "    \n",
    "    # assign the results to python variables so we can see them\n",
    "    \n",
    "    m_model, b_model = sess.run([m,b])\n",
    "          "
   ]
  },
  {
   "cell_type": "code",
   "execution_count": 24,
   "metadata": {},
   "outputs": [
    {
     "data": {
      "text/plain": [
       "0.5672205"
      ]
     },
     "execution_count": 24,
     "metadata": {},
     "output_type": "execute_result"
    }
   ],
   "source": [
    "m_model"
   ]
  },
  {
   "cell_type": "code",
   "execution_count": 25,
   "metadata": {},
   "outputs": [
    {
     "data": {
      "text/plain": [
       "4.938839"
      ]
     },
     "execution_count": 25,
     "metadata": {},
     "output_type": "execute_result"
    }
   ],
   "source": [
    "b_model"
   ]
  },
  {
   "cell_type": "markdown",
   "metadata": {},
   "source": [
    "the values for m_model and b_model are super close to the slope of 0.5 and intercept of 5 we set up in the beginning, so even with only a sample of the data--1000 training cycles (epochs) with 10 points each means the model trained on 10,000 samples, a fraction of our 1 million point dataset--linear regression is still able to find a close fit in the noise.\n",
    "\n",
    "let's visualize it, using the sample we took before with pandas & matplotlib:"
   ]
  },
  {
   "cell_type": "code",
   "execution_count": 29,
   "metadata": {},
   "outputs": [
    {
     "data": {
      "text/plain": [
       "[<matplotlib.lines.Line2D at 0x7fd4e384e470>]"
      ]
     },
     "execution_count": 29,
     "metadata": {},
     "output_type": "execute_result"
    },
    {
     "data": {
      "image/png": "[encoded data removed]",
      "text/plain": [
       "<Figure size 432x288 with 1 Axes>"
      ]
     },
     "metadata": {},
     "output_type": "display_data"
    }
   ],
   "source": [
    "y_hat = m_model * X_data + b_model\n",
    "\n",
    "df_sample.plot(kind='scatter', x='X', y='y')\n",
    "\n",
    "plt.plot(X_data, y_hat, 'r')"
   ]
  },
  {
   "cell_type": "markdown",
   "metadata": {},
   "source": [
    "looking at this graph, we can see that our model produces a line through the sample data that visually looks like a pretty good fit, with positive slope of about 0.5.\n",
    "\n",
    "however, while we did take random samples of data to train the model on, this notebook ignores one key aspect of model selection: validation using train test split."
   ]
  },
  {
   "cell_type": "markdown",
   "metadata": {},
   "source": [
    "### this model is unrealistic!\n",
    "\n",
    "in real life, we'd want to check to make sure the model is working by saving some of the data for testing. testing the model on unseen data is the only way to ensure that the model is generalizable to data outside the training set--otherwise, we could just be training the model to recognize the data it's already seen, which isn't helpful for prediction. and prediciton is why we make models!\n",
    "\n",
    "in addition, this isn't really the 'right' way to do this particular task (regression). tensorflow has a high-level api called tf.estimator (https://www.tensorflow.org/guide/estimators) that is better and more convenient for more simple machine learning tasks like regression. \n",
    "\n",
    "while it isn't a realistic regression problem, hopefully this simple notebook demonstrates the building blocks and moving parts of creating graphs in & working with tensorlfow."
   ]
  }
 ],
 "metadata": {
  "kernelspec": {
   "display_name": "Python 3",
   "language": "python",
   "name": "python3"
  },
  "language_info": {
   "codemirror_mode": {
    "name": "ipython",
    "version": 3
   },
   "file_extension": ".py",
   "mimetype": "text/x-python",
   "name": "python",
   "nbconvert_exporter": "python",
   "pygments_lexer": "ipython3",
   "version": "3.6.5"
  }
 },
 "nbformat": 4,
 "nbformat_minor": 2
}
