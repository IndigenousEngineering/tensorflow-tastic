{
 "cells": [
  {
   "cell_type": "code",
   "execution_count": 2,
   "metadata": {},
   "outputs": [],
   "source": [
    "import numpy as np\n",
    "import tensorflow as tf"
   ]
  },
  {
   "cell_type": "code",
   "execution_count": 3,
   "metadata": {},
   "outputs": [],
   "source": [
    "features_num = 15\n",
    "\n",
    "dense_neurons = 3"
   ]
  },
  {
   "cell_type": "markdown",
   "metadata": {},
   "source": [
    "## placeholders & data feed"
   ]
  },
  {
   "cell_type": "code",
   "execution_count": 4,
   "metadata": {},
   "outputs": [],
   "source": [
    "# placeholder for data: how/where data are fed in\n",
    "# second argument is shape\n",
    "# shape should be number of samples (rows), then number of features (columns)\n",
    "# in this case we have assigned number of features to a variable, features_num\n",
    "\n",
    "x = tf.placeholder(tf.float32,(None, features_num))"
   ]
  },
  {
   "cell_type": "markdown",
   "metadata": {},
   "source": [
    "## variables & weights/biases"
   ]
  },
  {
   "cell_type": "code",
   "execution_count": 6,
   "metadata": {},
   "outputs": [],
   "source": [
    "# weights as variables\n",
    "# initialized using random normal distribution\n",
    "\n",
    "# shape is number of features by number of neurons in the layer (in this case, 3)\n",
    "# W is going to be multiplied by x\n",
    "# number of columns (features) in x must match number of rows in W (because matrix multiplication)\n",
    "# and this is done for every neuron\n",
    "# hence shape ([features_num, dense_neurons])\n",
    "\n",
    "\n",
    "W = tf.Variable(tf.random_normal([features_num, dense_neurons]))\n",
    "\n",
    "# bias term\n",
    "# bias term is added, not multiplied\n",
    "# so shape is just the number of neurons (dense_neurons)\n",
    "\n",
    "b = tf.Variable(tf.ones([dense_neurons]))"
   ]
  },
  {
   "cell_type": "code",
   "execution_count": null,
   "metadata": {},
   "outputs": [],
   "source": []
  }
 ],
 "metadata": {
  "kernelspec": {
   "display_name": "Python 3",
   "language": "python",
   "name": "python3"
  },
  "language_info": {
   "codemirror_mode": {
    "name": "ipython",
    "version": 3
   },
   "file_extension": ".py",
   "mimetype": "text/x-python",
   "name": "python",
   "nbconvert_exporter": "python",
   "pygments_lexer": "ipython3",
   "version": "3.6.5"
  }
 },
 "nbformat": 4,
 "nbformat_minor": 2
}
