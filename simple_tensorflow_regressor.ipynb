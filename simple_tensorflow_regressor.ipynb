{
 "cells": [
  {
   "cell_type": "code",
   "execution_count": 18,
   "metadata": {},
   "outputs": [],
   "source": [
    "import numpy as np\n",
    "import tensorflow as tf\n",
    "import matplotlib.pyplot as plt\n",
    "%matplotlib inline"
   ]
  },
  {
   "cell_type": "code",
   "execution_count": 19,
   "metadata": {},
   "outputs": [],
   "source": [
    "# first, generate some data\n",
    "# for a regression problem, we're going to want data with \n",
    "# some kind of linear trend\n",
    "# will use np.linspace() for this"
   ]
  },
  {
   "cell_type": "code",
   "execution_count": 70,
   "metadata": {},
   "outputs": [
    {
     "data": {
      "text/plain": [
       "array([  1.11944582,   8.21195184,   0.23329573,  -3.95152074,\n",
       "         4.51567426,  13.33906351,  20.65416024,  11.94918745,\n",
       "         9.20334169,  21.931032  ,  13.85420279,  25.74236391,\n",
       "        22.02636586,  23.89519013,  20.35136993,  28.53277544,\n",
       "        30.70439209,  27.5310908 ,  47.21306969,  31.12703749,\n",
       "        36.29773076,  48.69976405,  46.17331555,  44.12172205,\n",
       "        58.05525477,  50.82683819,  53.6395534 ,  57.680447  ,\n",
       "        53.15491483,  49.31457712,  60.5450282 ,  56.62716666,\n",
       "        75.13515388,  60.46581786,  77.6263898 ,  72.41224447,\n",
       "        66.55205705,  75.08289679,  70.93854342,  77.52053049,\n",
       "        81.8911338 ,  88.56116236,  84.82520635,  94.66767022,\n",
       "        97.66018842,  94.31089003, 102.26421136, 101.40059713,\n",
       "       102.28269425, 105.7740249 ])"
      ]
     },
     "execution_count": 70,
     "metadata": {},
     "output_type": "execute_result"
    }
   ],
   "source": [
    "# from 0 to 10, with 100 points\n",
    "\n",
    "x_lin = np.linspace(0,100,50)\n",
    "\n",
    "x"
   ]
  },
  {
   "cell_type": "code",
   "execution_count": 71,
   "metadata": {},
   "outputs": [
    {
     "data": {
      "text/plain": [
       "array([ 0.22805676,  0.18923732,  0.17280975, -0.48884621,  0.27272954,\n",
       "        0.26743875,  0.50755791,  0.21705429, -0.55198338,  0.80874857])"
      ]
     },
     "execution_count": 71,
     "metadata": {},
     "output_type": "execute_result"
    }
   ],
   "source": [
    "# from -1.5 - 1.5, with 100 points\n",
    "\n",
    "noise = np.random.uniform(-10.5,10.5,50)\n",
    "\n",
    "rand"
   ]
  },
  {
   "cell_type": "code",
   "execution_count": 72,
   "metadata": {},
   "outputs": [
    {
     "data": {
      "text/plain": [
       "array([ -9.43653358,   6.88884522,   8.3338444 ,   6.50141138,\n",
       "        18.50416462,  16.18308112,  21.97715377,   9.75593507,\n",
       "         7.22788416,  25.50982666,  13.10251275,  28.61925148,\n",
       "        14.41489631,  22.13407352,  24.84487327,  36.16496157,\n",
       "        26.92562714,  44.47033754,  37.09307953,  38.45726012,\n",
       "        43.25356333,  51.60897282,  39.99909694,  53.90977702,\n",
       "        48.97101443,  43.8027958 ,  57.85706572,  47.78256425,\n",
       "        65.86605545,  55.14792678,  52.37151675,  65.81390211,\n",
       "        65.46724412,  65.16430265,  64.38425951,  77.09725309,\n",
       "        68.01434692,  73.32176122,  67.57790898,  77.70052649,\n",
       "        91.41396773,  75.76669013,  92.74329535,  94.14342266,\n",
       "        97.4361845 ,  93.50543663,  91.01079935, 105.85441293,\n",
       "        97.30072801, 106.33462186])"
      ]
     },
     "execution_count": 72,
     "metadata": {},
     "output_type": "execute_result"
    }
   ],
   "source": [
    "x = x_lin + noise\n",
    "\n",
    "x"
   ]
  },
  {
   "cell_type": "code",
   "execution_count": 73,
   "metadata": {},
   "outputs": [
    {
     "data": {
      "text/plain": [
       "array([ -3.69812088,  -0.6637579 ,  -0.77946303,  10.94376425,\n",
       "        13.50234253,  15.67965964,  10.41946752,  14.32839721,\n",
       "        21.79640132,  12.30269823,  17.20817764,  24.2937224 ,\n",
       "        28.3529489 ,  25.06013507,  21.56141945,  26.22810137,\n",
       "        32.70952276,  39.98379866,  29.89627283,  37.90927631,\n",
       "        40.03966616,  45.97296705,  38.90503586,  48.24459848,\n",
       "        41.91533921,  52.96762005,  50.98085158,  63.65447085,\n",
       "        66.59184559,  52.04932434,  57.9938281 ,  66.09037637,\n",
       "        58.84386669,  77.44947049,  65.75058862,  74.97575611,\n",
       "        63.39141881,  74.36871611,  85.40148848,  82.09388655,\n",
       "        89.59975678,  74.32273518,  75.76473897,  84.53829102,\n",
       "        83.22455955,  98.00065781, 101.96265297,  90.2170539 ,\n",
       "        94.54536615, 108.16524137])"
      ]
     },
     "execution_count": 73,
     "metadata": {},
     "output_type": "execute_result"
    }
   ],
   "source": [
    "# same thing for y (condensed)\n",
    "# but with 10 labels\n",
    "\n",
    "y_labels = np.linspace(0,100,50) + np.random.uniform(-10.5,10.5,50)\n",
    "\n",
    "y_labels"
   ]
  },
  {
   "cell_type": "code",
   "execution_count": 74,
   "metadata": {},
   "outputs": [
    {
     "data": {
      "text/plain": [
       "[<matplotlib.lines.Line2D at 0x7fd5295c3550>]"
      ]
     },
     "execution_count": 74,
     "metadata": {},
     "output_type": "execute_result"
    },
    {
     "data": {
      "image/png": "[encoded data removed]",
      "text/plain": [
       "<Figure size 432x288 with 1 Axes>"
      ]
     },
     "metadata": {},
     "output_type": "display_data"
    }
   ],
   "source": [
    "plt.plot(x, y_labels, '*')"
   ]
  },
  {
   "cell_type": "code",
   "execution_count": 17,
   "metadata": {},
   "outputs": [],
   "source": [
    "# cool! now we have linear-trending data with some noise in it"
   ]
  },
  {
   "cell_type": "code",
   "execution_count": null,
   "metadata": {},
   "outputs": [],
   "source": []
  },
  {
   "cell_type": "markdown",
   "metadata": {},
   "source": [
    "a linear regressor looks for a predictive linear trend in data. we are solving for a line:\n",
    "\n",
    "y = mx + b"
   ]
  },
  {
   "cell_type": "code",
   "execution_count": null,
   "metadata": {},
   "outputs": [],
   "source": []
  }
 ],
 "metadata": {
  "kernelspec": {
   "display_name": "Python 3",
   "language": "python",
   "name": "python3"
  },
  "language_info": {
   "codemirror_mode": {
    "name": "ipython",
    "version": 3
   },
   "file_extension": ".py",
   "mimetype": "text/x-python",
   "name": "python",
   "nbconvert_exporter": "python",
   "pygments_lexer": "ipython3",
   "version": "3.6.5"
  }
 },
 "nbformat": 4,
 "nbformat_minor": 2
}
