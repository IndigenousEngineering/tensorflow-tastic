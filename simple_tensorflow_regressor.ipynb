{
 "cells": [
  {
   "cell_type": "code",
   "execution_count": 18,
   "metadata": {},
   "outputs": [],
   "source": [
    "import numpy as np\n",
    "import tensorflow as tf\n",
    "import matplotlib.pyplot as plt\n",
    "%matplotlib inline"
   ]
  },
  {
   "cell_type": "code",
   "execution_count": 19,
   "metadata": {},
   "outputs": [],
   "source": [
    "# first, generate some data\n",
    "# for a regression problem, we're going to want data with \n",
    "# some kind of linear trend\n",
    "# will use np.linspace() for this"
   ]
  },
  {
   "cell_type": "code",
   "execution_count": 92,
   "metadata": {},
   "outputs": [
    {
     "data": {
      "text/plain": [
       "array([  0.        ,   2.04081633,   4.08163265,   6.12244898,\n",
       "         8.16326531,  10.20408163,  12.24489796,  14.28571429,\n",
       "        16.32653061,  18.36734694,  20.40816327,  22.44897959,\n",
       "        24.48979592,  26.53061224,  28.57142857,  30.6122449 ,\n",
       "        32.65306122,  34.69387755,  36.73469388,  38.7755102 ,\n",
       "        40.81632653,  42.85714286,  44.89795918,  46.93877551,\n",
       "        48.97959184,  51.02040816,  53.06122449,  55.10204082,\n",
       "        57.14285714,  59.18367347,  61.2244898 ,  63.26530612,\n",
       "        65.30612245,  67.34693878,  69.3877551 ,  71.42857143,\n",
       "        73.46938776,  75.51020408,  77.55102041,  79.59183673,\n",
       "        81.63265306,  83.67346939,  85.71428571,  87.75510204,\n",
       "        89.79591837,  91.83673469,  93.87755102,  95.91836735,\n",
       "        97.95918367, 100.        ])"
      ]
     },
     "execution_count": 92,
     "metadata": {},
     "output_type": "execute_result"
    }
   ],
   "source": [
    "# from 0 to 100, with 50 points\n",
    "\n",
    "x_lin = np.linspace(0,100,50)\n",
    "\n",
    "x_lin"
   ]
  },
  {
   "cell_type": "code",
   "execution_count": 93,
   "metadata": {},
   "outputs": [
    {
     "data": {
      "text/plain": [
       "array([ 6.93026413,  0.15597432,  1.98898459,  5.60474119, -9.41345756,\n",
       "        9.3212174 , -7.0284277 ,  9.08370909,  0.39371744,  3.6670621 ,\n",
       "       -0.90738688, -2.34640909, -0.59555027, -9.01644335, -0.02815959,\n",
       "        4.65186598,  5.24370147, -5.06099757, -7.50837022,  3.61140588,\n",
       "       -4.42756533, 10.1340535 , -3.20338951,  5.17735698, -4.1209615 ,\n",
       "        6.6468593 , -1.1507371 , -3.52044704, -7.49117724, -8.48983634,\n",
       "       -7.03378921,  3.04677553,  6.0822634 , -6.39075901,  0.75256463,\n",
       "       -9.44429244,  0.30627532,  5.33984228, -8.0846303 , -7.53906785,\n",
       "        1.813023  ,  4.33443871, -4.68535171, -4.59641115, -8.34484718,\n",
       "       -6.54075368, -1.81443374,  2.02476355, -4.15536992,  6.54239882])"
      ]
     },
     "execution_count": 93,
     "metadata": {},
     "output_type": "execute_result"
    }
   ],
   "source": [
    "# from -1.5 - 1.5, with 100 points\n",
    "\n",
    "noise = np.random.uniform(-10.5,10.5,50)\n",
    "\n",
    "noise"
   ]
  },
  {
   "cell_type": "code",
   "execution_count": 94,
   "metadata": {},
   "outputs": [
    {
     "data": {
      "text/plain": [
       "array([  6.93026413,   2.19679065,   6.07061724,  11.72719017,\n",
       "        -1.25019226,  19.52529904,   5.21647025,  23.36942338,\n",
       "        16.72024806,  22.03440904,  19.50077638,  20.1025705 ,\n",
       "        23.89424565,  17.5141689 ,  28.54326899,  35.26411088,\n",
       "        37.8967627 ,  29.63287998,  29.22632365,  42.38691608,\n",
       "        36.3887612 ,  52.99119636,  41.69456967,  52.11613249,\n",
       "        44.85863034,  57.66726747,  51.91048739,  51.58159378,\n",
       "        49.65167991,  50.69383713,  54.19070059,  66.31208165,\n",
       "        71.38838585,  60.95617977,  70.14031974,  61.98427899,\n",
       "        73.77566308,  80.85004636,  69.46639011,  72.05276888,\n",
       "        83.44567606,  88.0079081 ,  81.028934  ,  83.15869089,\n",
       "        81.45107119,  85.29598102,  92.06311728,  97.9431309 ,\n",
       "        93.80381375, 106.54239882])"
      ]
     },
     "execution_count": 94,
     "metadata": {},
     "output_type": "execute_result"
    }
   ],
   "source": [
    "x = x_lin + noise\n",
    "\n",
    "x"
   ]
  },
  {
   "cell_type": "code",
   "execution_count": 95,
   "metadata": {},
   "outputs": [
    {
     "data": {
      "text/plain": [
       "array([  4.00311019,  -2.11890422,   2.7083726 ,  -3.48642838,\n",
       "        10.14646849,  15.28207037,   2.1440489 ,  19.20636075,\n",
       "        15.08335823,  11.1790352 ,  19.10499881,  13.65546608,\n",
       "        28.21614099,  24.27016598,  31.10807917,  20.72108379,\n",
       "        41.39263279,  31.46135289,  36.26368514,  35.91300511,\n",
       "        43.54246278,  40.94687132,  49.59070005,  49.91642057,\n",
       "        53.28027377,  41.9675579 ,  61.85670506,  55.5519933 ,\n",
       "        53.03037199,  55.18167909,  61.07602816,  70.91978959,\n",
       "        61.21362554,  68.87187374,  71.21228512,  66.04444145,\n",
       "        64.84446327,  74.02588077,  71.08357319,  70.55646939,\n",
       "        88.78853263,  85.26517605,  91.14114637,  81.13095607,\n",
       "        91.82483529,  89.96885198,  94.12215047,  86.66605517,\n",
       "       107.25752776,  95.08260723])"
      ]
     },
     "execution_count": 95,
     "metadata": {},
     "output_type": "execute_result"
    }
   ],
   "source": [
    "# same thing for y (condensed)\n",
    "# but with 10 labels\n",
    "\n",
    "y_labels = np.linspace(0,100,50) + np.random.uniform(-10.5,10.5,50)\n",
    "\n",
    "y_labels"
   ]
  },
  {
   "cell_type": "code",
   "execution_count": 96,
   "metadata": {},
   "outputs": [
    {
     "data": {
      "text/plain": [
       "[<matplotlib.lines.Line2D at 0x7fd52860e7b8>]"
      ]
     },
     "execution_count": 96,
     "metadata": {},
     "output_type": "execute_result"
    },
    {
     "data": {
      "image/png": "[encoded data removed]",
      "text/plain": [
       "<Figure size 432x288 with 1 Axes>"
      ]
     },
     "metadata": {},
     "output_type": "display_data"
    }
   ],
   "source": [
    "plt.plot(x, y_labels, '*')"
   ]
  },
  {
   "cell_type": "code",
   "execution_count": 97,
   "metadata": {},
   "outputs": [],
   "source": [
    "# cool! now we have linear-trending data with some noise in it"
   ]
  },
  {
   "cell_type": "markdown",
   "metadata": {},
   "source": [
    "## modelling the equation: variables, step 1/2"
   ]
  },
  {
   "cell_type": "markdown",
   "metadata": {},
   "source": [
    "a linear regressor looks for a predictive linear trend in data. we are solving for a line:\n",
    "\n",
    "y = mx + b\n",
    "\n",
    "we can model this equation pretty literally using tensorflow."
   ]
  },
  {
   "cell_type": "code",
   "execution_count": 98,
   "metadata": {},
   "outputs": [],
   "source": [
    "# going to initialize 2 variables for m and b\n",
    "# initializing them with random values\n",
    "\n",
    "m = tf.Variable(np.random.randn())\n",
    "b = tf.Variable(np.random.randn())"
   ]
  },
  {
   "cell_type": "markdown",
   "metadata": {},
   "source": [
    "## cost function"
   ]
  },
  {
   "cell_type": "code",
   "execution_count": 99,
   "metadata": {},
   "outputs": [],
   "source": [
    "error = 0\n",
    "\n",
    "# create a list of tuples\n",
    "\n",
    "for x,y in zip(x, y_labels):\n",
    "    \n",
    "    # y_hat == predicted value\n",
    "    \n",
    "    y_hat = m * x + b\n",
    "    \n",
    "    # squaring the error emphasizes and punishes higher errors \n",
    "    \n",
    "    error += (y - y_hat) **2"
   ]
  },
  {
   "cell_type": "markdown",
   "metadata": {},
   "source": [
    "## optimizer"
   ]
  },
  {
   "cell_type": "code",
   "execution_count": 100,
   "metadata": {},
   "outputs": [],
   "source": [
    "# tf has a number of optimizers\n",
    "# this example uses gradient descent, but could easily choose another\n",
    "# 0.001 is a standard starting place for a learning rate\n",
    "\n",
    "GrD_optimizer = tf.train.GradientDescentOptimizer(learning_rate=0.001)\n",
    "\n",
    "# optimizers have a number of methods attached to them\n",
    "# like .minimize(value_to_be_minimized)\n",
    "\n",
    "training = GrD_optimizer.minimize(error)"
   ]
  },
  {
   "cell_type": "markdown",
   "metadata": {},
   "source": [
    "## initialization: variables, step 2/2"
   ]
  },
  {
   "cell_type": "code",
   "execution_count": 103,
   "metadata": {},
   "outputs": [],
   "source": [
    "initializer = tf.global_variables_initializer()"
   ]
  },
  {
   "cell_type": "markdown",
   "metadata": {},
   "source": [
    "## run in a session\n"
   ]
  },
  {
   "cell_type": "code",
   "execution_count": 104,
   "metadata": {},
   "outputs": [],
   "source": [
    "with tf.Session() as sess:\n",
    "    \n",
    "    # initialize variables\n",
    "    \n",
    "    sess.run(initializer)\n",
    "    \n",
    "    # number of training cycles\n",
    "    \n",
    "    epochs = 10\n",
    "    \n",
    "    for i in range(epochs):\n",
    "        \n",
    "        # train model using our defined cost function & optimizer\n",
    "        \n",
    "        sess.run(training)\n",
    "        \n",
    "        # get results\n",
    "        \n",
    "        slope, intercept = sess.run([m,b])"
   ]
  },
  {
   "cell_type": "code",
   "execution_count": 105,
   "metadata": {},
   "outputs": [
    {
     "data": {
      "text/plain": [
       "-6.872214e+23"
      ]
     },
     "execution_count": 105,
     "metadata": {},
     "output_type": "execute_result"
    }
   ],
   "source": [
    "slope"
   ]
  },
  {
   "cell_type": "code",
   "execution_count": 106,
   "metadata": {},
   "outputs": [
    {
     "data": {
      "text/plain": [
       "-1.0424998e+22"
      ]
     },
     "execution_count": 106,
     "metadata": {},
     "output_type": "execute_result"
    }
   ],
   "source": [
    "intercept"
   ]
  },
  {
   "cell_type": "code",
   "execution_count": null,
   "metadata": {},
   "outputs": [],
   "source": []
  }
 ],
 "metadata": {
  "kernelspec": {
   "display_name": "Python 3",
   "language": "python",
   "name": "python3"
  },
  "language_info": {
   "codemirror_mode": {
    "name": "ipython",
    "version": 3
   },
   "file_extension": ".py",
   "mimetype": "text/x-python",
   "name": "python",
   "nbconvert_exporter": "python",
   "pygments_lexer": "ipython3",
   "version": "3.6.5"
  }
 },
 "nbformat": 4,
 "nbformat_minor": 2
}
