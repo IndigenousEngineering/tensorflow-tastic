{
 "cells": [
  {
   "cell_type": "code",
   "execution_count": 105,
   "metadata": {},
   "outputs": [],
   "source": [
    "import numpy as np\n",
    "import tensorflow as tf\n",
    "import matplotlib.pyplot as plt\n",
    "%matplotlib inline"
   ]
  },
  {
   "cell_type": "code",
   "execution_count": 106,
   "metadata": {},
   "outputs": [],
   "source": [
    "# first, generate some data\n",
    "# for a regression problem, we're going to want data with \n",
    "# some kind of linear trend\n",
    "# will use np.linspace() for this"
   ]
  },
  {
   "cell_type": "code",
   "execution_count": 107,
   "metadata": {},
   "outputs": [
    {
     "data": {
      "text/plain": [
       "array([  0.        ,   2.04081633,   4.08163265,   6.12244898,\n",
       "         8.16326531,  10.20408163,  12.24489796,  14.28571429,\n",
       "        16.32653061,  18.36734694,  20.40816327,  22.44897959,\n",
       "        24.48979592,  26.53061224,  28.57142857,  30.6122449 ,\n",
       "        32.65306122,  34.69387755,  36.73469388,  38.7755102 ,\n",
       "        40.81632653,  42.85714286,  44.89795918,  46.93877551,\n",
       "        48.97959184,  51.02040816,  53.06122449,  55.10204082,\n",
       "        57.14285714,  59.18367347,  61.2244898 ,  63.26530612,\n",
       "        65.30612245,  67.34693878,  69.3877551 ,  71.42857143,\n",
       "        73.46938776,  75.51020408,  77.55102041,  79.59183673,\n",
       "        81.63265306,  83.67346939,  85.71428571,  87.75510204,\n",
       "        89.79591837,  91.83673469,  93.87755102,  95.91836735,\n",
       "        97.95918367, 100.        ])"
      ]
     },
     "execution_count": 107,
     "metadata": {},
     "output_type": "execute_result"
    }
   ],
   "source": [
    "# from 0 to 100, with 50 points\n",
    "\n",
    "x_lin = np.linspace(0,100,50)\n",
    "\n",
    "x_lin"
   ]
  },
  {
   "cell_type": "code",
   "execution_count": 108,
   "metadata": {},
   "outputs": [
    {
     "data": {
      "text/plain": [
       "array([ 5.88635301, -0.19506268,  0.97727353, -1.2965362 , -8.20546626,\n",
       "        4.08269743,  1.30414712, -2.57863115,  6.08227822, -2.24014286,\n",
       "       -6.78388407, -8.8119873 ,  2.41325874,  9.29716492, -7.76285091,\n",
       "        5.60143316, -7.43251688,  8.32118106, -5.91079464, -2.2707249 ,\n",
       "       -0.21072027,  3.99234952, -4.22682232,  9.94347673,  3.37840678,\n",
       "        9.0962468 ,  5.33025043,  2.08110225,  3.63681503, -6.31528349,\n",
       "        7.96685709, -0.30776639, -7.63681761,  2.94436386,  5.06309603,\n",
       "        6.29605178,  0.22333172,  9.94322591,  5.2343869 ,  3.68772872,\n",
       "        8.08442757,  5.20605329,  9.40511606, -5.86762933, -1.6525583 ,\n",
       "        2.31781245, -6.80608477,  4.01375562, -4.55337953, -1.53662442])"
      ]
     },
     "execution_count": 108,
     "metadata": {},
     "output_type": "execute_result"
    }
   ],
   "source": [
    "# from -10.5 to 10.5, with 50 points\n",
    "\n",
    "noise = np.random.uniform(-10.5,10.5,50)\n",
    "\n",
    "noise"
   ]
  },
  {
   "cell_type": "code",
   "execution_count": 109,
   "metadata": {},
   "outputs": [
    {
     "data": {
      "text/plain": [
       "array([ 5.88635301e+00,  1.84575365e+00,  5.05890618e+00,  4.82591278e+00,\n",
       "       -4.22009583e-02,  1.42867791e+01,  1.35490451e+01,  1.17070831e+01,\n",
       "        2.24088088e+01,  1.61272041e+01,  1.36242792e+01,  1.36369923e+01,\n",
       "        2.69030547e+01,  3.58277772e+01,  2.08085777e+01,  3.62136781e+01,\n",
       "        2.52205443e+01,  4.30150586e+01,  3.08238992e+01,  3.65047853e+01,\n",
       "        4.06056063e+01,  4.68494924e+01,  4.06711369e+01,  5.68822522e+01,\n",
       "        5.23579986e+01,  6.01166550e+01,  5.83914749e+01,  5.71831431e+01,\n",
       "        6.07796722e+01,  5.28683900e+01,  6.91913469e+01,  6.29575397e+01,\n",
       "        5.76693048e+01,  7.02913026e+01,  7.44508511e+01,  7.77246232e+01,\n",
       "        7.36927195e+01,  8.54534300e+01,  8.27854073e+01,  8.32795655e+01,\n",
       "        8.97170806e+01,  8.88795227e+01,  9.51194018e+01,  8.18874727e+01,\n",
       "        8.81433601e+01,  9.41545471e+01,  8.70714663e+01,  9.99321230e+01,\n",
       "        9.34058041e+01,  9.84633756e+01])"
      ]
     },
     "execution_count": 109,
     "metadata": {},
     "output_type": "execute_result"
    }
   ],
   "source": [
    "X = x_lin + noise\n",
    "\n",
    "X"
   ]
  },
  {
   "cell_type": "code",
   "execution_count": 110,
   "metadata": {},
   "outputs": [
    {
     "data": {
      "text/plain": [
       "array([-3.57492443,  4.17341151, -1.53292721, -2.78603539,  6.3262947 ,\n",
       "       18.96908639,  9.84790158, 16.54263907,  8.99553766, 21.45568134,\n",
       "       20.8642481 , 13.29682754, 15.95023689, 23.49581139, 20.19745372,\n",
       "       40.18968818, 22.83291505, 40.45195264, 34.27221159, 29.19167603,\n",
       "       30.56837762, 45.47143878, 36.46890587, 42.32235294, 40.82341232,\n",
       "       60.31423372, 58.48863189, 55.40473254, 50.26072162, 64.09543334,\n",
       "       69.99527363, 70.68923917, 65.68491433, 64.19231584, 74.09018066,\n",
       "       79.15222366, 67.90347345, 69.25614301, 74.65465541, 80.55891465,\n",
       "       90.54719144, 77.53087771, 89.57597217, 81.62512702, 89.82135847,\n",
       "       95.85149654, 97.69174199, 92.36393989, 89.59053193, 98.75272641])"
      ]
     },
     "execution_count": 110,
     "metadata": {},
     "output_type": "execute_result"
    }
   ],
   "source": [
    "# same thing for y (condensed)\n",
    "\n",
    "y_labels = np.linspace(0,100,50) + np.random.uniform(-10.5,10.5,50)\n",
    "\n",
    "y_labels"
   ]
  },
  {
   "cell_type": "code",
   "execution_count": 113,
   "metadata": {},
   "outputs": [
    {
     "data": {
      "text/plain": [
       "[<matplotlib.lines.Line2D at 0x7f8f9dcb1a20>]"
      ]
     },
     "execution_count": 113,
     "metadata": {},
     "output_type": "execute_result"
    },
    {
     "data": {
      "image/png": "[encoded data removed]",
      "text/plain": [
       "<Figure size 432x288 with 1 Axes>"
      ]
     },
     "metadata": {},
     "output_type": "display_data"
    }
   ],
   "source": [
    "plt.plot(X, y_labels, '*')"
   ]
  },
  {
   "cell_type": "code",
   "execution_count": null,
   "metadata": {},
   "outputs": [],
   "source": [
    "# cool! now we have linear-trending data with some noise in it"
   ]
  },
  {
   "cell_type": "markdown",
   "metadata": {},
   "source": [
    "## modelling the equation: variables, step 1/2"
   ]
  },
  {
   "cell_type": "markdown",
   "metadata": {},
   "source": [
    "a linear regressor looks for a predictive linear trend in data. we are solving for a line:\n",
    "\n",
    "y = mx + b\n",
    "\n",
    "we can model this equation pretty literally using tensorflow."
   ]
  },
  {
   "cell_type": "code",
   "execution_count": null,
   "metadata": {},
   "outputs": [],
   "source": [
    "# going to initialize 2 variables for m and b\n",
    "# initializing them with random values\n",
    "\n",
    "m = tf.Variable(np.random.randn())\n",
    "b = tf.Variable(np.random.randn())"
   ]
  },
  {
   "cell_type": "markdown",
   "metadata": {},
   "source": [
    "## cost function"
   ]
  },
  {
   "cell_type": "code",
   "execution_count": null,
   "metadata": {},
   "outputs": [],
   "source": [
    "error = 0\n",
    "\n",
    "# create a list of tuples\n",
    "\n",
    "for x,y in zip(x, y_labels):\n",
    "    \n",
    "    # y_hat = predicted value\n",
    "    \n",
    "    y_hat = m * x + b\n",
    "    \n",
    "    # squaring the error emphasizes and punishes higher errors \n",
    "    \n",
    "    error += (y - y_hat) **2"
   ]
  },
  {
   "cell_type": "markdown",
   "metadata": {},
   "source": [
    "## optimizer"
   ]
  },
  {
   "cell_type": "code",
   "execution_count": null,
   "metadata": {},
   "outputs": [],
   "source": [
    "# tf has a number of optimizers\n",
    "# this example uses gradient descent, but could easily choose another\n",
    "# 0.001 is a standard starting place for a learning rate\n",
    "\n",
    "GrD_optimizer = tf.train.GradientDescentOptimizer(learning_rate=0.001)\n",
    "\n",
    "# optimizers have a number of methods attached to them\n",
    "# like .minimize(value_to_be_minimized)\n",
    "\n",
    "training = GrD_optimizer.minimize(error)"
   ]
  },
  {
   "cell_type": "markdown",
   "metadata": {},
   "source": [
    "## initialization: variables, step 2/2"
   ]
  },
  {
   "cell_type": "code",
   "execution_count": null,
   "metadata": {},
   "outputs": [],
   "source": [
    "initializer = tf.global_variables_initializer()"
   ]
  },
  {
   "cell_type": "markdown",
   "metadata": {},
   "source": [
    "## run in a session\n"
   ]
  },
  {
   "cell_type": "code",
   "execution_count": 119,
   "metadata": {},
   "outputs": [],
   "source": [
    "with tf.Session() as sess:\n",
    "    \n",
    "    # initialize variables\n",
    "    \n",
    "    sess.run(initializer)\n",
    "    \n",
    "    # number of training cycles (10 is not very many!)\n",
    "    \n",
    "    epochs = 10\n",
    "    \n",
    "    for i in range(epochs):\n",
    "        \n",
    "        # train model using our defined cost function & optimizer\n",
    "        \n",
    "        sess.run(training)\n",
    "        \n",
    "        # get results\n",
    "        \n",
    "        m_slope, b_intercept = sess.run([m,b])"
   ]
  },
  {
   "cell_type": "code",
   "execution_count": 120,
   "metadata": {},
   "outputs": [
    {
     "data": {
      "text/plain": [
       "0.9284305"
      ]
     },
     "execution_count": 120,
     "metadata": {},
     "output_type": "execute_result"
    }
   ],
   "source": [
    "m_slope"
   ]
  },
  {
   "cell_type": "code",
   "execution_count": 121,
   "metadata": {},
   "outputs": [
    {
     "data": {
      "text/plain": [
       "-0.14883037"
      ]
     },
     "execution_count": 121,
     "metadata": {},
     "output_type": "execute_result"
    }
   ],
   "source": [
    "b_intercept"
   ]
  },
  {
   "cell_type": "markdown",
   "metadata": {},
   "source": [
    "## testing: the ocular patdown (i.e. let's take a look)"
   ]
  },
  {
   "cell_type": "code",
   "execution_count": 122,
   "metadata": {},
   "outputs": [
    {
     "data": {
      "text/plain": [
       "[<matplotlib.lines.Line2D at 0x7f8f9dbfed30>]"
      ]
     },
     "execution_count": 122,
     "metadata": {},
     "output_type": "execute_result"
    },
    {
     "data": {
      "image/png": "[encoded data removed]",
      "text/plain": [
       "<Figure size 432x288 with 1 Axes>"
      ]
     },
     "metadata": {},
     "output_type": "display_data"
    }
   ],
   "source": [
    "# to plot this, we need \n",
    "# a line for x that's the same length as our data and a linear distribution\n",
    "\n",
    "x_test_line = np.linspace(0,100,50)\n",
    "\n",
    "# y = mx + b\n",
    "\n",
    "y_hat_plt = m_slope * x_test_line + b_intercept\n",
    "\n",
    "# this will make a blue line\n",
    "\n",
    "plt.plot(x_test_line, y_hat_plt, 'b')\n",
    "\n",
    "# overlay original data\n",
    "# this will plot with red '*' symbol\n",
    "\n",
    "plt.plot(X, y_labels,'r*')"
   ]
  },
  {
   "cell_type": "markdown",
   "metadata": {},
   "source": [
    "cool! it works, and we have a decently good fit to the data--particularly given only 10 training cycles (epochs).\n",
    "\n",
    "would more epochs == better fit? let's see:"
   ]
  },
  {
   "cell_type": "code",
   "execution_count": 123,
   "metadata": {},
   "outputs": [],
   "source": [
    "# test number 2: this time with more training cycles (epochs)\n",
    "\n",
    "with tf.Session() as sess:\n",
    "    \n",
    "    sess.run(initializer)\n",
    "    \n",
    "    epochs = 100\n",
    "    \n",
    "    for i in range(epochs):\n",
    "        \n",
    "        sess.run(training)\n",
    "        \n",
    "        # get back results\n",
    "        \n",
    "        slope, intercept = sess.run([m,b])"
   ]
  },
  {
   "cell_type": "code",
   "execution_count": 124,
   "metadata": {},
   "outputs": [
    {
     "name": "stdout",
     "output_type": "stream",
     "text": [
      "0.86332077 \n",
      "\n",
      "0.3565344\n"
     ]
    }
   ],
   "source": [
    "print(slope, '\\n')\n",
    "\n",
    "print(intercept)"
   ]
  },
  {
   "cell_type": "code",
   "execution_count": 127,
   "metadata": {},
   "outputs": [
    {
     "data": {
      "text/plain": [
       "[<matplotlib.lines.Line2D at 0x7f8f9da57fd0>]"
      ]
     },
     "execution_count": 127,
     "metadata": {},
     "output_type": "execute_result"
    },
    {
     "data": {
      "image/png": "[encoded data removed]",
      "text/plain": [
       "<Figure size 432x288 with 1 Axes>"
      ]
     },
     "metadata": {},
     "output_type": "display_data"
    }
   ],
   "source": [
    "# still have x_test_line from above\n",
    "\n",
    "y_hat_plt2 = slope + x_test_line + intercept\n",
    "\n",
    "plt.plot(x_test_line, y_hat_plt2, 'b')\n",
    "plt.plot(X, y_labels, 'r*')"
   ]
  },
  {
   "cell_type": "markdown",
   "metadata": {},
   "source": [
    "that looks like a slightly closer fit."
   ]
  },
  {
   "cell_type": "markdown",
   "metadata": {},
   "source": [
    "## conclusion\n",
    "\n",
    "this has been a really simple implementation of a regressor in tensorflow. the data here is a little unrealistic and is intended for demonstration and practice purposes only. it aims to give a working idea of how the moving parts in tensorflow work together to create a basic model."
   ]
  }
 ],
 "metadata": {
  "kernelspec": {
   "display_name": "Python 3",
   "language": "python",
   "name": "python3"
  },
  "language_info": {
   "codemirror_mode": {
    "name": "ipython",
    "version": 3
   },
   "file_extension": ".py",
   "mimetype": "text/x-python",
   "name": "python",
   "nbconvert_exporter": "python",
   "pygments_lexer": "ipython3",
   "version": "3.6.5"
  }
 },
 "nbformat": 4,
 "nbformat_minor": 2
}
